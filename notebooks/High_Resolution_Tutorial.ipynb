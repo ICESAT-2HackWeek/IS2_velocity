{
 "cells": [
  {
   "cell_type": "code",
   "execution_count": null,
   "metadata": {},
   "outputs": [],
   "source": [
    "from surface_velocity.readers import read_HDF5_ATL03, get_ATL03_x_atc\n",
    "\n",
    "atl3_dir = '/Users/benhills/Google Drive File Stream/Shared drives/IceSat2_Surface_Velocity/Shared_Data/FIS_0848_ATL03/ATL03_files/'\n",
    "fn_1 = atl3_dir + '177516372/ATL03_20190822153035_08480411_003_01.h5'\n",
    "fn_2 = atl3_dir + '177261775/ATL03_20190523195046_08480311_003_01.h5'\n",
    "\n",
    "# read the IS2 data with Tyler's ATL03 reader:\n",
    "IS2_atl03_mds, IS2_atl03_attrs, IS2_atl03_beams = read_HDF5_ATL03(fn_1)\n",
    "# add x_atc to the ATL03 data structure (this function adds to the LS2_ATL03_mds dictionary)\n",
    "get_ATL03_x_atc(IS2_atl03_mds, IS2_atl03_attrs, IS2_atl03_beams)\n",
    "#-- select the 2l beam from ATL03\n",
    "D3 = IS2_atl03_mds['gt2l']\n",
    "LMH=D3['heights']['signal_conf_ph'][:,3] >= 2\n",
    "x3_1 = D3['heights']['x_atc'][LMH]\n",
    "h3_1 = D3['heights']['h_ph'][LMH]\n",
    "\n",
    "# read the IS2 data with Tyler's ATL03 reader:\n",
    "IS2_atl03_mds, IS2_atl03_attrs, IS2_atl03_beams = read_HDF5_ATL03(fn_2)\n",
    "# add x_atc to the ATL03 data structure (this function adds to the LS2_ATL03_mds dictionary)\n",
    "get_ATL03_x_atc(IS2_atl03_mds, IS2_atl03_attrs, IS2_atl03_beams)\n",
    "#-- select the 2l beam from ATL03\n",
    "D3 = IS2_atl03_mds['gt2l']\n",
    "LMH=D3['heights']['signal_conf_ph'][:,3] >= 2\n",
    "x3_2 = D3['heights']['x_atc'][LMH]\n",
    "h3_2 = D3['heights']['h_ph'][LMH]"
   ]
  },
  {
   "cell_type": "code",
   "execution_count": null,
   "metadata": {},
   "outputs": [],
   "source": [
    "from surface_velocity.atl03_reprocessing import reinterpolate_atl03\n",
    "\n",
    "h3_1 = h3_1[np.logical_and(x3_1>np.nanmin(D1['x_atc']),x3_1<np.nanmax(D1['x_atc']))]\n",
    "x3_1 = x3_1[np.logical_and(x3_1>np.nanmin(D1['x_atc']),x3_1<np.nanmax(D1['x_atc']))]\n",
    "h3_2 = h3_2[np.logical_and(x3_2>np.nanmin(D2['x_atc']),x3_2<np.nanmax(D2['x_atc']))]\n",
    "x3_2 = x3_2[np.logical_and(x3_2>np.nanmin(D2['x_atc']),x3_2<np.nanmax(D2['x_atc']))]\n",
    "\n",
    "#!!!!!!!!!!!!!!!!!!! This takes forever, instead of reprocessing just reload the numpy arrays in the next cell\n",
    "\"\"\"\n",
    "x_3_1,h_3_1 = reinterpolate_atl03(x3_1,h3_1)\n",
    "x_3_2,h_3_2 = reinterpolate_atl03(x3_2,h3_2)\n",
    "\n",
    "np.save('../data/reinterpret_atl03_file1.npy',np.array([x_3_1,h_3_1]))\n",
    "np.save('../data/reinterpret_atl03_file2.npy',np.array([x_3_2,h_3_2]))\n",
    "\"\"\""
   ]
  },
  {
   "cell_type": "code",
   "execution_count": null,
   "metadata": {},
   "outputs": [],
   "source": [
    "atl3_dir = '/Users/benhills/Google Drive File Stream/Shared drives/IceSat2_Surface_Velocity/Shared_Data/FIS_0848_ATL03/reinterpolated/'\n",
    "x1,h1 = np.load(atl3_dir+'reinterpolated_atl03_file1.npy')\n",
    "x2,h2 = np.load(atl3_dir+'reinterpolated_atl03_file2.npy')\n",
    "\n",
    "h1_smooth,dh1 = smooth_and_diff(x1,h1,win=100)\n",
    "h2_smooth,dh2 = smooth_and_diff(x2,h2,win=100)\n",
    "\n",
    "vel_xs = np.linspace(np.min(x1)+1000,np.max(x1)-1000,1000)\n",
    "velocities,correlations = velocity(x1,dh1,dh2,dt,vel_xs,search_width=1000,segment_length=5000,dx=5)\n",
    "\n",
    "# ------------------------------------------\n",
    "\n",
    "plt.figure(figsize=(8,4))\n",
    "gs = GridSpec(2,2)\n",
    "\n",
    "plt.subplot(gs[0,0])\n",
    "plt.tick_params(bottom=False,labelbottom=False)\n",
    "plt.plot(x1/1000.-29000,h1,'.',c='indianred')\n",
    "plt.plot(x2/1000.-29000,h2,'.',c='steelblue',ms=3)\n",
    "plt.ylabel('Elevation (m)')\n",
    "plt.title('ATL03',fontweight='bold')\n",
    "plt.xlim(80,580)\n",
    "\n",
    "plt.subplot(gs[1,0])\n",
    "plt.tick_params(bottom=False,labelbottom=False)\n",
    "plt.plot(x1/1000.-29000,dh1,'.',c='indianred')\n",
    "plt.plot(x2/1000.-29000,dh2,'.',c='steelblue',ms=3)\n",
    "plt.ylim(-.05,.05)\n",
    "plt.ylabel('Surface Slope (m/m)')\n",
    "plt.xlim(80,580)\n",
    "\n",
    "ax5 = plt.subplot(gs[:,1])\n",
    "plt.plot(vel_xs/1000.-29000,velocities,'.',c='c',mfc='w',label='ATL06')\n",
    "plt.ylabel('Velocity (m/yr)')\n",
    "plt.xlabel('Along-Track Distance (km)')\n",
    "plt.xlim(80,580)\n",
    "plt.ylim(-500,1500)\n",
    "\n",
    "plt.tight_layout()"
   ]
  }
 ],
 "metadata": {
  "kernelspec": {
   "display_name": "Python 3",
   "language": "python",
   "name": "python3"
  },
  "language_info": {
   "codemirror_mode": {
    "name": "ipython",
    "version": 3
   },
   "file_extension": ".py",
   "mimetype": "text/x-python",
   "name": "python",
   "nbconvert_exporter": "python",
   "pygments_lexer": "ipython3",
   "version": "3.7.3"
  }
 },
 "nbformat": 4,
 "nbformat_minor": 2
}
