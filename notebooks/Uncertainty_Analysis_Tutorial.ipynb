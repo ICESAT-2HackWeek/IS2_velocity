{
 "cells": [
  {
   "cell_type": "code",
   "execution_count": null,
   "metadata": {},
   "outputs": [],
   "source": [
    "# Import the basic libraries\n",
    "import numpy as np\n",
    "import matplotlib.pyplot as plt\n",
    "%matplotlib notebook"
   ]
  },
  {
   "cell_type": "markdown",
   "metadata": {},
   "source": [
    "## Load the Data"
   ]
  },
  {
   "cell_type": "code",
   "execution_count": null,
   "metadata": {},
   "outputs": [],
   "source": [
    "# Import funcitons for the velocity calculation; Correlate all the beams from one set of repeat ground tracks, rgt = 0848\n",
    "from IS2_velocity.correlation_processing import calculate_velocities\n",
    "from IS2_velocity.readers import load_data_by_rgt\n",
    "from scipy.signal import correlate\n",
    "from astropy.time import Time\n",
    "\n",
    "### Data directory\n",
    "data_dir = '../data/'\n",
    "\n",
    "### Select rgt for now\n",
    "rgt = '0848'\n",
    "\n",
    "### Control the correlation step:\n",
    "segment_length = 2000 # meters, how wide is the window we are correlating in each step\n",
    "search_width = 1000 # meters, how far in front of and behind the window to check for correlation\n",
    "along_track_step = 100 # meters; how much to jump between each consecutivevelocity determination\n",
    "max_percent_nans = 10 # Maximum % of segment length that can be nans and still do the correlation step\n",
    "\n",
    "### Which product\n",
    "product = 'ATL06'\n",
    "if product == 'ATL06':\n",
    "    dx = 20\n",
    "\n",
    "### Select filter type and required arguments; Currently only this running mean is supported\n",
    "filter_type = 'running_average'\n",
    "running_avg_window = 100 # meters\n",
    "\n",
    "### Load data\n",
    "x_atc, lats, lons, h_li_raw, h_li_raw_NoNans, h_li, h_li_diff, times, min_seg_ids, \\\n",
    "segment_ids, cycles_this_rgt, x_ps, y_ps = \\\n",
    "    load_data_by_rgt(rgt = rgt, path_to_data = data_dir, product = 'ATL06', \\\n",
    "                     filter_type = filter_type, running_avg_window = running_avg_window, \\\n",
    "                     format = 'hdf5')"
   ]
  },
  {
   "cell_type": "markdown",
   "metadata": {},
   "source": [
    "## Correlation"
   ]
  },
  {
   "cell_type": "code",
   "execution_count": null,
   "metadata": {},
   "outputs": [],
   "source": [
    "cycle1='03'\n",
    "cycle2='04'\n",
    "beam = 'gt1l'\n",
    "start_ind = 3500\n",
    "\n",
    "x_in1 = x_atc[cycle1][beam]\n",
    "dh1 = h_li_diff[cycle1][beam]\n",
    "dh2 = h_li_diff[cycle2][beam]\n",
    "\n",
    "xi = start_ind\n",
    "x_start = x_in1[start_ind]\n",
    "\n",
    "# find indices for the stencil\n",
    "idx1 = np.argmin(abs(x_in1-x_start))\n",
    "idx2 = idx1 + int(np.round(segment_length/dx))\n",
    "# cut out a wider chunk of data at time t2 (second cycle)\n",
    "idx3 = idx1 - int(np.round(search_width/dx)) # offset on earlier end by # indices in search_width\n",
    "idx4 = idx2 + int(np.round(search_width/dx)) # offset on later end by # indices in search_width\n",
    "\n",
    "# get the two arrays that will be correlated to one another\n",
    "dh_stencil = dh1[idx1:idx2]\n",
    "dh_wide = dh2[idx3:idx4]\n",
    "\n",
    "# correlate old with newer data\n",
    "corr = correlate(dh_stencil, dh_wide, mode = 'valid', method = 'direct')\n",
    "norm_val = np.sqrt(np.sum(dh_stencil**2)*np.sum(dh_wide**2)) # normalize so values range between 0 and 1\n",
    "corr = corr / norm_val\n",
    "lagvec = np.arange(- int(np.round(search_width/dx)), int(search_width/dx) +1,1)# for mode = 'valid'\n",
    "shift_vec = lagvec * dx\n",
    "\n",
    "t1_string = times[cycle1]['gt1l'][0].astype(str)  # figure out later if just picking hte first one it ok\n",
    "t1 = Time(t1_string)\n",
    "t2_string = times[cycle2]['gt1l'][0].astype(str)  # figure out later if just picking hte first one it ok\n",
    "t2 = Time(t2_string)\n",
    "dt = (t2 - t1).jd  # difference in julian days"
   ]
  },
  {
   "cell_type": "markdown",
   "metadata": {},
   "source": [
    "## Plot with Widget"
   ]
  },
  {
   "cell_type": "code",
   "execution_count": null,
   "metadata": {},
   "outputs": [],
   "source": [
    "import ipywidgets\n",
    "\n",
    "x0 = x_atc[cycle1][beam][start_ind]\n",
    "search_x = int(np.round(search_width/dx))\n",
    "               \n",
    "plt.figure(figsize=(8,5))\n",
    "plt.subplot(221)\n",
    "plt.tick_params(labelbottom=False)\n",
    "l1, = plt.plot((x_atc[cycle1][beam][idx1:idx2]-x0-search_width)/1000.,h_li[cycle1][beam][idx1:idx2])\n",
    "plt.plot((x_atc[cycle2][beam][idx3:idx4]-x0)/1000.,h_li[cycle2][beam][idx3:idx4])\n",
    "plt.ylabel('Elevation (m)')\n",
    "\n",
    "plt.subplot(223)\n",
    "l2, = plt.plot((x_atc[cycle1][beam][idx1:idx2]-x0-search_width)/1000.,h_li_diff[cycle1][beam][idx1:idx2])\n",
    "plt.plot((x_atc[cycle2][beam][idx3:idx4]-x0)/1000.,h_li_diff[cycle2][beam][idx3:idx4])\n",
    "plt.ylabel('Slope (m/m)')\n",
    "plt.xlabel('Along-Track Distance (km)')\n",
    "\n",
    "plt.subplot(224)\n",
    "plt.plot(shift_vec/(dt/365.),corr,'k')\n",
    "p1, = plt.plot(shift_vec[0]/(dt/365.),corr[0],'k.',mfc='w',mew=2,ms=10)\n",
    "plt.ylabel('Correlation')\n",
    "plt.xlabel('Velocity (m/yr)')\n",
    "\n",
    "plt.tight_layout()\n",
    "\n",
    "# An update function for the interactive figure\n",
    "def update(n_step = (0,search_x*2)):\n",
    "    l1.set_xdata((x_atc[cycle1][beam][idx1:idx2]-x0+search_width-n_step*dx)/1000.)\n",
    "    l2.set_xdata((x_atc[cycle1][beam][idx1:idx2]-x0+search_width-n_step*dx)/1000.)\n",
    "    p1.set_data(np.transpose([shift_vec[int(n_step)]/(dt/365.),corr[int(n_step)]]))\n",
    "\n",
    "# Update with the sliders\n",
    "ipywidgets.interactive(update)"
   ]
  }
 ],
 "metadata": {
  "kernelspec": {
   "display_name": "Python 3",
   "language": "python",
   "name": "python3"
  },
  "language_info": {
   "codemirror_mode": {
    "name": "ipython",
    "version": 3
   },
   "file_extension": ".py",
   "mimetype": "text/x-python",
   "name": "python",
   "nbconvert_exporter": "python",
   "pygments_lexer": "ipython3",
   "version": "3.7.3"
  }
 },
 "nbformat": 4,
 "nbformat_minor": 2
}
