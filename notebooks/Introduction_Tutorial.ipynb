{
 "cells": [
  {
   "cell_type": "markdown",
   "metadata": {},
   "source": [
    "## Introduction to ICESat-2 Surface Velocity Calculations\n",
    "\n",
    "This notebook is meant to introduce the processing flow for a simple along-track velocity calculation using repeat cycles of ICESat-2 elevation profiles. The notebook covers:\n",
    "1. Setting up the IS2_velocity library\n",
    "2. Loading elevation data from an hdf5 file using the built-in reader function.\n",
    "3. Smoothing and differentiating the elevation profile.\n",
    "4. Correlating the differentiated profile to calculate surface velocities."
   ]
  },
  {
   "cell_type": "code",
   "execution_count": null,
   "metadata": {},
   "outputs": [],
   "source": [
    "# Import the basic libraries\n",
    "import numpy as np\n",
    "import matplotlib.pyplot as plt\n",
    "%matplotlib notebook"
   ]
  },
  {
   "cell_type": "markdown",
   "metadata": {},
   "source": [
    "## Library Setup\n",
    "\n",
    "In order to run the IS2_velocity scripts as a python library, you must first:\n",
    "1. Download or clone the repository at https://github.com/ICESAT-2HackWeek/IS2_velocity.git\n",
    "2. Install the dependencies including numpy, scipy, h5py, astropy, icepyx, and the ICESat-2 pointCollection library.\n",
    "3. Go the the home directory in our repository and run ‘python setup.py install’.\n",
    "\n",
    "If you successfully run the setup.py script, you should be able to run the cell below."
   ]
  },
  {
   "cell_type": "code",
   "execution_count": null,
   "metadata": {},
   "outputs": [],
   "source": [
    "# As an example, import a function from the ICESat-2 surface velocity library\n",
    "from IS2_velocity.correlation_processing import velocity\n",
    "help(velocity)"
   ]
  },
  {
   "cell_type": "markdown",
   "metadata": {},
   "source": [
    "## Import ATL06 Dictionaries\n",
    "\n",
    "Two cycles for a repeat over Foundation Ice Stream are saved within the data directory. Here we load and plot them on top of one another."
   ]
  },
  {
   "cell_type": "code",
   "execution_count": null,
   "metadata": {},
   "outputs": [],
   "source": [
    "# Import the reader script\n",
    "from IS2_velocity.readers import atl06_to_dict\n",
    "\n",
    "# read in dictionaries from two different cycles\n",
    "data_dir = '../data/'\n",
    "fn_1 = 'processed_ATL06_20190822153035_08480411_003_01.h5'\n",
    "D1=atl06_to_dict(data_dir+fn_1,'/gt2l', index=None, epsg=3031)\n",
    "fn_2 = 'processed_ATL06_20190523195046_08480311_003_01.h5'\n",
    "D2=atl06_to_dict(data_dir+fn_2,'/gt2l', index=None, epsg=3031)"
   ]
  },
  {
   "cell_type": "code",
   "execution_count": null,
   "metadata": {},
   "outputs": [],
   "source": [
    "# Plot the landice elevation along the pass.\n",
    "plt.figure(figsize=(8,4))\n",
    "\n",
    "plt.plot(D1['x_atc']/1000.,D1['h_li'],c='indianred')\n",
    "plt.plot(D2['x_atc']/1000.,D2['h_li'],c='steelblue')\n",
    "plt.ylabel('Elevation (m)')\n",
    "plt.xlabel('Along-Track Distance (km)')\n",
    "\n",
    "plt.tight_layout()"
   ]
  },
  {
   "cell_type": "markdown",
   "metadata": {},
   "source": [
    "## Preprocessing - Smooth and Differentiate"
   ]
  },
  {
   "cell_type": "code",
   "execution_count": null,
   "metadata": {},
   "outputs": [],
   "source": [
    "# Import some signal processing functions\n",
    "from IS2_velocity.correlation_processing import smooth_and_diff, fill_seg_ids\n",
    "\n",
    "# Get segment ids from the loaded dictionaries\n",
    "x1,h1 = fill_seg_ids(D1['x_atc'],D1['h_li'],D1['segment_id'])\n",
    "x2,h2 = fill_seg_ids(D2['x_atc'],D2['h_li'],D2['segment_id'])\n",
    "\n",
    "# Smooth and differentiate the elevation product (this is a preprocessing step)\n",
    "h1_smooth,dh1 = smooth_and_diff(x1,h1,win=100)\n",
    "h2_smooth,dh2 = smooth_and_diff(x2,h2,win=100)\n",
    "\n",
    "# ------------------------------------------\n",
    "\n",
    "plt.figure(figsize=(8,6))\n",
    "\n",
    "# Plot smoothed surface elevation\n",
    "plt.subplot(211)\n",
    "plt.tick_params(labelbottom=False,bottom=False)\n",
    "plt.plot(x1/1000.,h1,c='grey')\n",
    "plt.plot(x1/1000.,h1_smooth,c='k')\n",
    "plt.ylabel('Elevation (m)')\n",
    "\n",
    "# Plot the surface Slope\n",
    "plt.subplot(212)\n",
    "plt.plot(x1/1000.,dh1,c='k')\n",
    "plt.xlabel('Along-Track Distance (km)')\n",
    "plt.ylabel('Surface Slope (m/m)')\n",
    "\n",
    "plt.tight_layout()"
   ]
  },
  {
   "cell_type": "markdown",
   "metadata": {},
   "source": [
    "## Velocity Calculation\n",
    "\n",
    "More work is yet to be done to select the ideal search_width and segment_Right now, I have:\n",
    "- search_width=1000\n",
    "- segment_length=5000\n",
    "- dx=20\n",
    "- corr_threshold=.65"
   ]
  },
  {
   "cell_type": "code",
   "execution_count": null,
   "metadata": {},
   "outputs": [],
   "source": [
    "# Import funcitons for the velocity calculation and a time differencing step\n",
    "from IS2_velocity.correlation_processing import velocity, time_diff\n",
    "\n",
    "# Calculate time offset\n",
    "dt = time_diff(D1,D2)\n",
    "# Where to calculate the velocities\n",
    "vel_xs = np.linspace(np.min(x1)+1000,np.max(x1)-1000,1000)\n",
    "# Do the velocity calculation\n",
    "velocities,correlations = velocity(x1,dh1,dh2,dt,vel_xs,search_width=1000,segment_length=5000)\n",
    "\n",
    "# ------------------------------------------\n",
    "\n",
    "from matplotlib.gridspec import GridSpec\n",
    "\n",
    "plt.figure(figsize=(8,4))\n",
    "gs = GridSpec(2,2)\n",
    "\n",
    "# Plot the elevation profiles again\n",
    "plt.subplot(gs[0,0])\n",
    "plt.tick_params(bottom=False,labelbottom=False)\n",
    "plt.plot(x1/1000.-29000,h1,'.',c='indianred')\n",
    "plt.plot(x2/1000.-29000,h2,'.',c='steelblue',ms=3)\n",
    "plt.ylabel('Elevation (m)')\n",
    "plt.title('ATL06',fontweight='bold')\n",
    "plt.xlim(80,580)\n",
    "\n",
    "# Plot the slopes again\n",
    "plt.subplot(gs[1,0])\n",
    "plt.tick_params(bottom=False,labelbottom=False)\n",
    "plt.plot(x1/1000.-29000,dh1,'.',c='indianred')\n",
    "plt.plot(x2/1000.-29000,dh2,'.',c='steelblue',ms=3)\n",
    "plt.ylim(-.05,.05)\n",
    "plt.ylabel('Surface Slope (m/m)')\n",
    "plt.xlim(80,580)\n",
    "\n",
    "# Plot the calculated velocities along track\n",
    "ax5 = plt.subplot(gs[:,1])\n",
    "plt.plot(vel_xs/1000.-29000,velocities,'.',c='k',label='ATL06')\n",
    "plt.ylabel('Velocity (m/yr)')\n",
    "plt.xlabel('Along-Track Distance (km)')\n",
    "plt.xlim(80,580)\n",
    "plt.ylim(-500,1500)\n",
    "\n",
    "plt.tight_layout()"
   ]
  }
 ],
 "metadata": {
  "kernelspec": {
   "display_name": "Python 3",
   "language": "python",
   "name": "python3"
  },
  "language_info": {
   "codemirror_mode": {
    "name": "ipython",
    "version": 3
   },
   "file_extension": ".py",
   "mimetype": "text/x-python",
   "name": "python",
   "nbconvert_exporter": "python",
   "pygments_lexer": "ipython3",
   "version": "3.7.3"
  }
 },
 "nbformat": 4,
 "nbformat_minor": 2
}
