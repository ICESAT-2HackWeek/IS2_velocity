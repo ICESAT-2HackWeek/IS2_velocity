{
 "cells": [
  {
   "cell_type": "markdown",
   "metadata": {},
   "source": [
    "## Introduction to ICESat-2 Surface Velocity Calculations\n",
    "\n",
    "This notebook is meant to introduce the processing flow for a simple along-track velocity calculation using repeat cysles of ICESat-2 elevation profiles. The notebook covers:\n",
    "1. Setting up the IS2_velocity library\n",
    "2. Loading elevation data from an hdf5 file using the built-in reader function.\n",
    "3. Smoothing and differentiating the elevation profile.\n",
    "4. Correlating the differentiated profile to calculate surface velocities."
   ]
  },
  {
   "cell_type": "code",
   "execution_count": null,
   "metadata": {},
   "outputs": [],
   "source": [
    "# Import the basic libraries\n",
    "import numpy as np\n",
    "import matplotlib.pyplot as plt\n",
    "%matplotlib notebook"
   ]
  },
  {
   "cell_type": "markdown",
   "metadata": {},
   "source": [
    "## Library Setup\n",
    "\n",
    "In order to run the IS2_velocity scripts as a python library, you must first:\n",
    "1. Download or clone the repository at https://github.com/ICESAT-2HackWeek/IS2_velocity.git\n",
    "2. Install the dependencies including numpy, scipy, h5py, astropy, icepyx, and the ICESat-2 pointCollection library.\n",
    "3. Go the the home directory in our repository and run ‘python setup.py install’.\n",
    "\n",
    "If you successfully run the setup.py script, you should be able to run the cell below."
   ]
  },
  {
   "cell_type": "code",
   "execution_count": null,
   "metadata": {},
   "outputs": [],
   "source": [
    "# As an example, import a function from the ICESat-2 surface velocity library\n",
    "from IS2_velocity.correlation_processing import calculate_velocities\n",
    "help(calculate_velocities)"
   ]
  },
  {
   "cell_type": "markdown",
   "metadata": {},
   "source": [
    "# Velocity calculation: Control correlations"
   ]
  },
  {
   "cell_type": "code",
   "execution_count": null,
   "metadata": {},
   "outputs": [],
   "source": [
    "# Import funcitons for the velocity calculation; Correlate all the beams from one set of repeat ground tracks, rgt = 0848\n",
    "from IS2_velocity.correlation_processing import calculate_velocities\n",
    "\n",
    "### Select rgt for now\n",
    "rgt = '0848'\n",
    "\n",
    "### Control the correlation step:\n",
    "segment_length = 2000 # meters, how wide is the window we are correlating in each step\n",
    "search_width = 1000 # meters, how far in front of and behind the window to check for correlation\n",
    "along_track_step = 100 # meters; how much to jump between each consecutivevelocity determination\n",
    "max_percent_nans = 10 # Maximum % of segment length that can be nans and still do the correlation step\n",
    "\n",
    "### Which product\n",
    "product = 'ATL06'\n",
    "if product == 'ATL06':\n",
    "    dx = 20\n",
    "\n",
    "### Select filter type and required arguments; Currently only this running mean is supported\n",
    "filter_type = 'running_average'\n",
    "running_avg_window = 100 # meters"
   ]
  },
  {
   "cell_type": "markdown",
   "metadata": {},
   "source": [
    "# Velocity calculation: Load Data / Import dictionaries"
   ]
  },
  {
   "cell_type": "code",
   "execution_count": null,
   "metadata": {},
   "outputs": [],
   "source": [
    "from IS2_velocity.readers import load_data_by_rgt\n",
    "# atl06_to_dict is within the function load_data_by_rgt\n",
    "\n",
    "# path to data, relative to folder /notebooks\n",
    "data_dir = '../data/'\n",
    "rgt = '0848'\n",
    "\n",
    "# Load data; This step loads raw data, interpolates to constant spacing, filters if requested, and \n",
    "# differentiates\n",
    "filter_type = 'running_average'\n",
    "running_avg_window = 100\n",
    "\n",
    "x_atc, lats, lons, h_li_raw, h_li_raw_NoNans, h_li, h_li_diff, times, min_seg_ids, \\\n",
    "segment_ids, cycles_this_rgt, x_ps, y_ps = \\\n",
    "    load_data_by_rgt(rgt = rgt, path_to_data = data_dir, product = 'ATL06', \\\n",
    "                     filter_type = filter_type, running_avg_window = running_avg_window, \\\n",
    "                     format = 'hdf5')\n"
   ]
  },
  {
   "cell_type": "markdown",
   "metadata": {},
   "source": [
    "## Visualize one of the beams"
   ]
  },
  {
   "cell_type": "code",
   "execution_count": null,
   "metadata": {
    "scrolled": false
   },
   "outputs": [],
   "source": [
    "# Plot the landice elevation along the pass.\n",
    "\n",
    "cycle1='03'\n",
    "cycle2='04'\n",
    "beam='gt1l'\n",
    "\n",
    "plt.figure(figsize=(8,4))\n",
    "\n",
    "plt.plot(x_atc[cycle1][beam]/1000.,h_li[cycle1][beam],c='indianred')\n",
    "plt.plot(x_atc[cycle2][beam]/1000.,h_li[cycle2][beam],c='steelblue')\n",
    "plt.ylabel('Elevation (m)')\n",
    "plt.xlabel('Along-Track Distance (km)')\n",
    "\n",
    "plt.tight_layout()"
   ]
  },
  {
   "cell_type": "markdown",
   "metadata": {},
   "source": [
    "# Velocity calculation: Calculate velocity between cycles 03 and 04"
   ]
  },
  {
   "cell_type": "code",
   "execution_count": null,
   "metadata": {},
   "outputs": [],
   "source": [
    "from IS2_velocity.correlation_processing import calculate_velocities\n",
    "\n",
    "# Calculate velocity between cycles 3 and 4\n",
    "cycle1 = '03'\n",
    "cycle2 = '04'\n",
    "beams = ['gt1l','gt1r','gt2l','gt2r','gt3l','gt3r']\n",
    "\n",
    "saving = True\n",
    "write_out_path = '.'\n",
    "write_out_prefix = ''\n",
    "\n",
    "spatial_extent = np.array([-65, -86, -55, -81])\n",
    "map_data_root = '/Users/grace/Dropbox/Cornell/projects/003/FIS_data/'\n",
    "\n",
    "velocities, correlations, lags, midpoints_x_atc, midpoints_xy, midpoints_lons, midpoints_lats = \\\n",
    "    calculate_velocities(rgt, x_atc, h_li_raw, h_li_diff, lats, lons, segment_ids, times, beams, cycle1, cycle2, \\\n",
    "             product, segment_length, search_width, along_track_step, max_percent_nans, dx, saving = True, \\\n",
    "             write_out_path = write_out_path, prepend = write_out_prefix,spatial_extent = spatial_extent, \\\n",
    "             map_data_root = map_data_root)\n",
    "\n"
   ]
  },
  {
   "cell_type": "markdown",
   "metadata": {},
   "source": [
    "# Velocity calculation: Visualize result for one beam "
   ]
  },
  {
   "cell_type": "code",
   "execution_count": null,
   "metadata": {
    "scrolled": false
   },
   "outputs": [],
   "source": [
    "\n",
    "\n",
    "from matplotlib.gridspec import GridSpec\n",
    "\n",
    "beam = 'gt1l'\n",
    "x1 = x_atc['03'][beam]\n",
    "x2 = x_atc['04'][beam]\n",
    "h1 = h_li['03'][beam]\n",
    "h2 = h_li['04'][beam]\n",
    "dh1 = h_li_diff['03'][beam]\n",
    "dh2 = h_li_diff['04'][beam]\n",
    "vel_xs = midpoints_x_atc[rgt][beam]\n",
    "velocs = velocities[rgt][beam]\n",
    "\n",
    "plt.figure(figsize=(8,4))\n",
    "gs = GridSpec(2,2)\n",
    "\n",
    "# Plot the elevation profiles again\n",
    "plt.subplot(gs[0,0])\n",
    "plt.tick_params(bottom=False,labelbottom=False)\n",
    "plt.plot(x1/1000.-29000,h1,'.',c='indianred')\n",
    "plt.plot(x2/1000.-29000,h2,'.',c='steelblue',ms=3)\n",
    "plt.ylabel('Elevation (m)')\n",
    "plt.title('ATL06',fontweight='bold')\n",
    "plt.xlim(80,580)\n",
    "\n",
    "# Plot the slopes again\n",
    "plt.subplot(gs[1,0])\n",
    "plt.tick_params(bottom=False,labelbottom=False)\n",
    "plt.plot(x1/1000.-29000,dh1,'.',c='indianred')\n",
    "plt.plot(x2/1000.-29000,dh2,'.',c='steelblue',ms=3)\n",
    "plt.ylim(-.05,.05)\n",
    "plt.ylabel('Surface Slope (m/m)')\n",
    "plt.xlim(80,580)\n",
    "\n",
    "# Plot the calculated velocities along track\n",
    "ax5 = plt.subplot(gs[0,1])\n",
    "plt.plot(vel_xs/1000.-29000,velocs,'.',c='k',label='ATL06')\n",
    "plt.ylabel('Velocity (m/yr)')\n",
    "plt.xlabel('Along-Track Distance (km)')\n",
    "plt.xlim(80,580)\n",
    "plt.ylim(-500,1500)\n",
    "\n",
    "plt.tight_layout()"
   ]
  },
  {
   "cell_type": "code",
   "execution_count": null,
   "metadata": {},
   "outputs": [],
   "source": [
    "from IS2_velocity.plotting import plot_measures_along_track_comparison\n",
    "\n",
    "datapath = '/Users/grace/Dropbox/Cornell/projects/003/git_repo_old_Hackweek/surface_velocity/contributors/grace_barcheck/download/'\n",
    "out_path = '/Users/grace/Dropbox/Cornell/projects/003/out_tmp/'\n",
    "map_data_root = '/Users/grace/Dropbox/Cornell/projects/003/FIS_data/'\n",
    "correlation_threshold = 0.65\n",
    "plot_out_location = out_path\n",
    "velocity_number = 0\n",
    "spatial_extent = np.array([-65, -86, -55, -81])\n",
    "\n",
    "plot_measures_along_track_comparison(rgt, beams, out_path, correlation_threshold, spatial_extent, plot_out_location, map_data_root, velocity_number)"
   ]
  }
 ],
 "metadata": {
  "kernelspec": {
   "display_name": "Python 3",
   "language": "python",
   "name": "python3"
  },
  "language_info": {
   "codemirror_mode": {
    "name": "ipython",
    "version": 3
   },
   "file_extension": ".py",
   "mimetype": "text/x-python",
   "name": "python",
   "nbconvert_exporter": "python",
   "pygments_lexer": "ipython3",
   "version": "3.7.3"
  }
 },
 "nbformat": 4,
 "nbformat_minor": 2
}
