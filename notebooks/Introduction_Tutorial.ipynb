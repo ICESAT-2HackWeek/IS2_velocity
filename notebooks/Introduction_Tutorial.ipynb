{
 "cells": [
  {
   "cell_type": "code",
   "execution_count": null,
   "metadata": {},
   "outputs": [],
   "source": [
    "# Import the basic libraries\n",
    "import numpy as np\n",
    "import matplotlib.pyplot as plt\n",
    "%matplotlib notebook\n",
    "\n",
    "# Import select functions from ICESat-2 surface velocity library\n",
    "from surface_velocity.readers import atl06_to_dict\n",
    "from surface_velocity.correlation_processing import smooth_and_diff, fill_seg_ids\n",
    "from surface_velocity.correlation_processing import velocity, time_diff"
   ]
  },
  {
   "cell_type": "code",
   "execution_count": null,
   "metadata": {},
   "outputs": [],
   "source": [
    "# As an example, display the text for one of the IS2_velocity functions\n",
    "help(velocity)"
   ]
  },
  {
   "cell_type": "markdown",
   "metadata": {},
   "source": [
    "## Import ATL06 Dictionaries\n",
    "\n",
    "Eventually, I think that we could make this more seamless, where a user simply inserts the name of a line, then our package looks for appropriate cycles and does the velocity calculation all in one. For now, I am just testing everything and leaving it how it is."
   ]
  },
  {
   "cell_type": "code",
   "execution_count": null,
   "metadata": {},
   "outputs": [],
   "source": [
    "# read in dictionaries from two different cycles\n",
    "data_dir = '/Users/benhills/Google Drive File Stream/Shared drives/IceSat2_Surface_Velocity/Shared_Data/FIS_ATL06/'\n",
    "fn_1 = 'processed_ATL06_20190822153035_08480411_003_01.h5'\n",
    "D1=atl06_to_dict(data_dir+fn_1,'/gt2l', index=None, epsg=3031)\n",
    "fn_2 = 'processed_ATL06_20190523195046_08480311_003_01.h5'\n",
    "D2=atl06_to_dict(data_dir+fn_2,'/gt2l', index=None, epsg=3031)"
   ]
  },
  {
   "cell_type": "code",
   "execution_count": null,
   "metadata": {},
   "outputs": [],
   "source": [
    "plt.figure(figsize=(8,4))\n",
    "\n",
    "plt.plot(D1['x_atc']/1000.,D1['h_li'],c='indianred')\n",
    "plt.plot(D2['x_atc']/1000.,D2['h_li'],c='steelblue')\n",
    "plt.ylabel('Elevation (m)')\n",
    "plt.xlabel('Along-Track Distance (km)')\n",
    "\n",
    "plt.tight_layout()"
   ]
  },
  {
   "cell_type": "markdown",
   "metadata": {},
   "source": [
    "## Preprocessing - Smooth and Differentiate"
   ]
  },
  {
   "cell_type": "code",
   "execution_count": null,
   "metadata": {},
   "outputs": [],
   "source": [
    "x1,h1 = fill_seg_ids(D1['x_atc'],D1['h_li'],D1['segment_id'])\n",
    "x2,h2 = fill_seg_ids(D2['x_atc'],D2['h_li'],D2['segment_id'])\n",
    "\n",
    "h1_smooth,dh1 = smooth_and_diff(x1,h1,win=100)\n",
    "h2_smooth,dh2 = smooth_and_diff(x2,h2,win=100)\n",
    "\n",
    "# ------------------------------------------\n",
    "\n",
    "plt.figure(figsize=(8,6))\n",
    "\n",
    "plt.subplot(211)\n",
    "plt.tick_params(labelbottom=False,bottom=False)\n",
    "plt.plot(x1/1000.,h1,c='grey')\n",
    "plt.plot(x1/1000.,h1_smooth,c='k')\n",
    "plt.ylabel('Elevation (m)')\n",
    "\n",
    "plt.subplot(212)\n",
    "plt.plot(x1/1000.,dh1,c='k')\n",
    "plt.xlabel('Along-Track Distance (km)')\n",
    "plt.ylabel('Surface Slopt (m/m)')\n",
    "\n",
    "plt.tight_layout()"
   ]
  },
  {
   "cell_type": "markdown",
   "metadata": {},
   "source": [
    "## Velocity Calculation\n",
    "\n",
    "Lynn did a lot of work here looking for the right search width, segment length, etc. I think that those numbers should be input as defaults into the function eventually, but I couldn't find the optimal numbers that she had. Right now, I have:\n",
    "- search_width=1000\n",
    "- segment_length=5000\n",
    "- dx=20\n",
    "- corr_threshold=.65"
   ]
  },
  {
   "cell_type": "code",
   "execution_count": null,
   "metadata": {},
   "outputs": [],
   "source": [
    "dt = time_diff(D1,D2)\n",
    "vel_xs = np.linspace(np.min(x1)+1000,np.max(x1)-1000,1000)\n",
    "velocities,correlations = velocity(x1,dh1,dh2,dt,vel_xs,search_width=1000,segment_length=5000)\n",
    "\n",
    "# ------------------------------------------\n",
    "\n",
    "from matplotlib.gridspec import GridSpec\n",
    "\n",
    "plt.figure(figsize=(8,4))\n",
    "gs = GridSpec(2,2)\n",
    "\n",
    "plt.subplot(gs[0,0])\n",
    "plt.tick_params(bottom=False,labelbottom=False)\n",
    "plt.plot(x1/1000.-29000,h1,'.',c='indianred')\n",
    "plt.plot(x2/1000.-29000,h2,'.',c='steelblue',ms=3)\n",
    "plt.ylabel('Elevation (m)')\n",
    "plt.title('ATL06',fontweight='bold')\n",
    "plt.xlim(80,580)\n",
    "\n",
    "plt.subplot(gs[1,0])\n",
    "plt.tick_params(bottom=False,labelbottom=False)\n",
    "plt.plot(x1/1000.-29000,dh1,'.',c='indianred')\n",
    "plt.plot(x2/1000.-29000,dh2,'.',c='steelblue',ms=3)\n",
    "plt.ylim(-.05,.05)\n",
    "plt.ylabel('Surface Slope (m/m)')\n",
    "plt.xlim(80,580)\n",
    "\n",
    "ax5 = plt.subplot(gs[:,1])\n",
    "plt.plot(vel_xs/1000.-29000,velocities,'.',c='k',label='ATL06')\n",
    "plt.ylabel('Velocity (m/yr)')\n",
    "plt.xlabel('Along-Track Distance (km)')\n",
    "plt.xlim(80,580)\n",
    "plt.ylim(-500,1500)\n",
    "\n",
    "plt.tight_layout()"
   ]
  }
 ],
 "metadata": {
  "kernelspec": {
   "display_name": "Python 3",
   "language": "python",
   "name": "python3"
  },
  "language_info": {
   "codemirror_mode": {
    "name": "ipython",
    "version": 3
   },
   "file_extension": ".py",
   "mimetype": "text/x-python",
   "name": "python",
   "nbconvert_exporter": "python",
   "pygments_lexer": "ipython3",
   "version": "3.7.3"
  }
 },
 "nbformat": 4,
 "nbformat_minor": 2
}
