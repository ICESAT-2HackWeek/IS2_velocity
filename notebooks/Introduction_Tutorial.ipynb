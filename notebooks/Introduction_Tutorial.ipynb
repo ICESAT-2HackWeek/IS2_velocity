{
 "cells": [
  {
   "cell_type": "markdown",
   "metadata": {},
   "source": [
    "## Introduction to ICESat-2 Surface Velocity Calculations\n",
    "\n",
    "This notebook is meant to introduce the processing flow for a simple along-track velocity calculation using repeat cysles of ICESat-2 elevation profiles. The notebook covers:\n",
    "1. Setting up the IS2_velocity library\n",
    "2. Loading elevation data from an hdf5 file using the built-in reader function.\n",
    "3. Smoothing and differentiating the elevation profile.\n",
    "4. Correlating the differentiated profile to calculate surface velocities."
   ]
  },
  {
   "cell_type": "code",
   "execution_count": 1,
   "metadata": {},
   "outputs": [],
   "source": [
    "# Import the basic libraries\n",
    "import numpy as np\n",
    "import matplotlib.pyplot as plt\n",
    "%matplotlib notebook"
   ]
  },
  {
   "cell_type": "markdown",
   "metadata": {},
   "source": [
    "## Library Setup\n",
    "\n",
    "In order to run the IS2_velocity scripts as a python library, you must first:\n",
    "1. Download or clone the repository at https://github.com/ICESAT-2HackWeek/IS2_velocity.git\n",
    "2. Install the dependencies including numpy, scipy, h5py, astropy, icepyx, and the ICESat-2 pointCollection library.\n",
    "3. Go the the home directory in our repository and run ‘python setup.py install’.\n",
    "\n",
    "If you successfully run the setup.py script, you should be able to run the cell below."
   ]
  },
  {
   "cell_type": "code",
   "execution_count": 2,
   "metadata": {},
   "outputs": [
    {
     "ename": "SyntaxError",
     "evalue": "invalid syntax (readers.py, line 28)",
     "output_type": "error",
     "traceback": [
      "Traceback \u001b[0;36m(most recent call last)\u001b[0m:\n",
      "  File \u001b[1;32m\"/Users/grace/anaconda3/envs/icesat2020/lib/python3.7/site-packages/IPython/core/interactiveshell.py\"\u001b[0m, line \u001b[1;32m3343\u001b[0m, in \u001b[1;35mrun_code\u001b[0m\n    exec(code_obj, self.user_global_ns, self.user_ns)\n",
      "  File \u001b[1;32m\"<ipython-input-2-6818938e3fdc>\"\u001b[0m, line \u001b[1;32m2\u001b[0m, in \u001b[1;35m<module>\u001b[0m\n    from IS2_velocity.correlation_processing import velocity\n",
      "  File \u001b[1;32m\"<frozen importlib._bootstrap>\"\u001b[0m, line \u001b[1;32m983\u001b[0m, in \u001b[1;35m_find_and_load\u001b[0m\n",
      "  File \u001b[1;32m\"<frozen importlib._bootstrap>\"\u001b[0m, line \u001b[1;32m967\u001b[0m, in \u001b[1;35m_find_and_load_unlocked\u001b[0m\n",
      "  File \u001b[1;32m\"<frozen importlib._bootstrap>\"\u001b[0m, line \u001b[1;32m668\u001b[0m, in \u001b[1;35m_load_unlocked\u001b[0m\n",
      "  File \u001b[1;32m\"<frozen importlib._bootstrap>\"\u001b[0m, line \u001b[1;32m638\u001b[0m, in \u001b[1;35m_load_backward_compatible\u001b[0m\n",
      "  File \u001b[1;32m\"/Users/grace/anaconda3/envs/icesat2020/lib/python3.7/site-packages/IS2_velocity-0.0.1-py3.7.egg/IS2_velocity/__init__.py\"\u001b[0m, line \u001b[1;32m1\u001b[0m, in \u001b[1;35m<module>\u001b[0m\n    from . import readers\n",
      "  File \u001b[1;32m\"<frozen importlib._bootstrap>\"\u001b[0m, line \u001b[1;32m983\u001b[0m, in \u001b[1;35m_find_and_load\u001b[0m\n",
      "  File \u001b[1;32m\"<frozen importlib._bootstrap>\"\u001b[0m, line \u001b[1;32m963\u001b[0m, in \u001b[1;35m_find_and_load_unlocked\u001b[0m\n",
      "  File \u001b[1;32m\"<frozen importlib._bootstrap>\"\u001b[0m, line \u001b[1;32m906\u001b[0m, in \u001b[1;35m_find_spec\u001b[0m\n",
      "  File \u001b[1;32m\"<frozen importlib._bootstrap_external>\"\u001b[0m, line \u001b[1;32m1280\u001b[0m, in \u001b[1;35mfind_spec\u001b[0m\n",
      "  File \u001b[1;32m\"<frozen importlib._bootstrap_external>\"\u001b[0m, line \u001b[1;32m1254\u001b[0m, in \u001b[1;35m_get_spec\u001b[0m\n",
      "  File \u001b[1;32m\"<frozen importlib._bootstrap_external>\"\u001b[0m, line \u001b[1;32m1235\u001b[0m, in \u001b[1;35m_legacy_get_spec\u001b[0m\n",
      "  File \u001b[1;32m\"<frozen importlib._bootstrap>\"\u001b[0m, line \u001b[1;32m441\u001b[0m, in \u001b[1;35mspec_from_loader\u001b[0m\n",
      "\u001b[0;36m  File \u001b[0;32m\"<frozen importlib._bootstrap_external>\"\u001b[0;36m, line \u001b[0;32m594\u001b[0;36m, in \u001b[0;35mspec_from_file_location\u001b[0;36m\u001b[0m\n",
      "\u001b[0;36m  File \u001b[0;32m\"/Users/grace/anaconda3/envs/icesat2020/lib/python3.7/site-packages/IS2_velocity-0.0.1-py3.7.egg/IS2_velocity/readers.py\"\u001b[0;36m, line \u001b[0;32m28\u001b[0m\n\u001b[0;31m    if format = 'hdf5':\u001b[0m\n\u001b[0m              ^\u001b[0m\n\u001b[0;31mSyntaxError\u001b[0m\u001b[0;31m:\u001b[0m invalid syntax\n"
     ]
    }
   ],
   "source": [
    "# As an example, import a function from the ICESat-2 surface velocity library\n",
    "from IS2_velocity.correlation_processing import velocity\n",
    "help(velocity)"
   ]
  },
  {
   "cell_type": "markdown",
   "metadata": {},
   "source": [
    "## Import ATL06 Dictionaries\n",
    "\n",
    "Two cycles for a repeat over Foundation Ice Stream are saved within the data directory. Here we load and plot them on top of one another."
   ]
  },
  {
   "cell_type": "code",
   "execution_count": null,
   "metadata": {},
   "outputs": [],
   "source": [
    "# # Import the reader script\n",
    "# from IS2_velocity.readers import atl06_to_dict\n",
    "\n",
    "# # read in dictionaries from two different cycles\n",
    "# data_dir = '../data/'\n",
    "# fn_1 = 'processed_ATL06_20190822153035_08480411_003_01.h5'\n",
    "# D1=atl06_to_dict(data_dir+fn_1,'/gt2l', index=None, epsg=3031, format='hdf5')\n",
    "# fn_2 = 'processed_ATL06_20190523195046_08480311_003_01.h5'\n",
    "# D2=atl06_to_dict(data_dir+fn_2,'/gt2l', index=None, epsg=3031, format='hdf5')"
   ]
  },
  {
   "cell_type": "code",
   "execution_count": null,
   "metadata": {},
   "outputs": [],
   "source": [
    "# # Plot the landice elevation along the pass.\n",
    "# plt.figure(figsize=(8,4))\n",
    "\n",
    "# plt.plot(D1['x_atc']/1000.,D1['h_li'],c='indianred')\n",
    "# plt.plot(D2['x_atc']/1000.,D2['h_li'],c='steelblue')\n",
    "# plt.ylabel('Elevation (m)')\n",
    "# plt.xlabel('Along-Track Distance (km)')\n",
    "\n",
    "# plt.tight_layout()"
   ]
  },
  {
   "cell_type": "markdown",
   "metadata": {},
   "source": [
    "## Preprocessing - Filter and Differentiate\n",
    "\n",
    "Visualize. [This is actually done inside the load_data_by_rgt function]"
   ]
  },
  {
   "cell_type": "code",
   "execution_count": null,
   "metadata": {},
   "outputs": [],
   "source": [
    "# # Import some signal processing functions\n",
    "# from IS2_velocity.correlation_processing import filt, differentiate, fill_seg_ids\n",
    "\n",
    "# # Get segment ids from the loaded dictionaries\n",
    "# x1,h1 = fill_seg_ids(D1['x_atc'],D1['h_li'],D1['segment_id'])\n",
    "# x2,h2 = fill_seg_ids(D2['x_atc'],D2['h_li'],D2['segment_id'])\n",
    "\n",
    "# # Smooth and differentiate the elevation product (this is a preprocessing step)\n",
    "# running_average_window = 100\n",
    "# h1_filt = filt(x1, h1, running_avg_window, type = 'running_average')\n",
    "# h2_filt = filt(x2, h2, running_avg_window, type = 'running_average')\n",
    "# dh1 = differentiate(x1,h1)\n",
    "# dh2 = differentiate(x2,h2)\n",
    "# dh1_filt = differentiate(x1,h1_filt)\n",
    "# dh2_filt = differentiate(x2,h2_filt)\n",
    "\n",
    "\n",
    "\n",
    "# # ------------------------------------------\n",
    "\n",
    "# plt.figure(figsize=(8,6))\n",
    "\n",
    "# # Plot smoothed surface elevation\n",
    "# plt.subplot(211)\n",
    "# plt.tick_params(labelbottom=False,bottom=False)\n",
    "# plt.plot(x1/1000.,h1,c='grey')\n",
    "# plt.plot(x1/1000.,h1_filt,c='k')\n",
    "# plt.ylabel('Elevation (m)')\n",
    "\n",
    "# # Plot the surface Slope\n",
    "# plt.subplot(212)\n",
    "# plt.plot(x1/1000.,dh1,c='grey')\n",
    "# plt.plot(x1/1000.,dh1_filt,c='k')\n",
    "# plt.xlabel('Along-Track Distance (km)')\n",
    "# plt.ylabel('Surface Slope (m/m)')\n",
    "\n",
    "# plt.tight_layout()"
   ]
  },
  {
   "cell_type": "markdown",
   "metadata": {},
   "source": [
    "# Velocity calculation: Control correlations"
   ]
  },
  {
   "cell_type": "code",
   "execution_count": null,
   "metadata": {},
   "outputs": [],
   "source": [
    "# Import funcitons for the velocity calculation; Correlate all the beams from one set of repeat ground tracks, rgt = 0848\n",
    "from IS2_velocity.correlation_processing import velocity\n",
    "\n",
    "### Select rgt for now\n",
    "rgt = '0848'\n",
    "\n",
    "### Control the correlation step:\n",
    "segment_length = 2000 # meters, how wide is the window we are correlating in each step\n",
    "search_width = 1000 # meters, how far in front of and behind the window to check for correlation\n",
    "along_track_step = 100 # meters; how much to jump between each consecutivevelocity determination\n",
    "max_percent_nans = 10 # Maximum % of segment length that can be nans and still do the correlation step\n",
    "\n",
    "### Which product\n",
    "product = 'ATL06'\n",
    "if product == 'ATL06':\n",
    "    dx = 20\n",
    "\n",
    "### Select filter type and required arguments; Currently only this running mean is supported\n",
    "filter_type = 'running_average'\n",
    "running_avg_window = 100 # meters"
   ]
  },
  {
   "cell_type": "markdown",
   "metadata": {},
   "source": [
    "# Velocity calculation: Load Data / Import dictionaries"
   ]
  },
  {
   "cell_type": "code",
   "execution_count": null,
   "metadata": {},
   "outputs": [],
   "source": [
    "from IS2_velocity.readers import load_data_by_rgt\n",
    "# atl06_to_dict is within the function load_data_by_rgt\n",
    "\n",
    "\n",
    "# Load data; This step loads raw data, interpolates to constant spacing, filters if requested, and \n",
    "# differentiates\n",
    "x_atc, lats, lons, h_li_raw, h_li_raw_NoNans, h_li, h_li_diff, times, min_seg_ids, \n",
    "segment_ids, cycles_this_rgt, x_ps, y_ps = \\\n",
    "    load_data_by_rgt(rgt = '0848', path_to_data = data_dir, product = 'ATL06', \\\n",
    "                     filter_type = filter_type, running_avg_window = running_avg_window, \\\n",
    "                     format = 'hdf5')\n"
   ]
  },
  {
   "cell_type": "markdown",
   "metadata": {},
   "source": [
    "## Visualize one of the beams"
   ]
  },
  {
   "cell_type": "code",
   "execution_count": null,
   "metadata": {},
   "outputs": [],
   "source": [
    "# Plot the landice elevation along the pass.\n",
    "\n",
    "cycle1='03'\n",
    "cycle2='04'\n",
    "beam='gt1l\n",
    "\n",
    "plt.figure(figsize=(8,4))\n",
    "\n",
    "plt.plot(x_atc[cycle1][beam]/1000.,h_li[cycle1][beam],c='indianred')\n",
    "plt.plot(x_atc[cycle2][beam]/1000.,h_li[cycle2][beam],c='steelblue')\n",
    "plt.ylabel('Elevation (m)')\n",
    "plt.xlabel('Along-Track Distance (km)')\n",
    "\n",
    "plt.tight_layout()"
   ]
  },
  {
   "cell_type": "markdown",
   "metadata": {},
   "source": [
    "# Velocity calculation: Calculate velocity between cycles 03 and 04"
   ]
  },
  {
   "cell_type": "code",
   "execution_count": null,
   "metadata": {},
   "outputs": [],
   "source": [
    "# Calculate velocity between cycles 3 and 4\n",
    "cycle1 = '03'\n",
    "cycle2 = '04'\n",
    "\n",
    "velocities, correlations, lags, midpoints_x_atc, midpoints_xy, midpoints_lons, midpoints_lats = \\\n",
    "    velocity(x_atc, h_li_diff, lats, lons, segment_ids, beams, cycle1, cycle2, \\\n",
    "             segment_length, search_width, along_track_step, max_percent_nans, dx)\n",
    "\n"
   ]
  },
  {
   "cell_type": "markdown",
   "metadata": {},
   "source": [
    "# Velocity calculation: Visualize result for one beam "
   ]
  },
  {
   "cell_type": "code",
   "execution_count": null,
   "metadata": {},
   "outputs": [],
   "source": [
    "\n",
    "\n",
    "from matplotlib.gridspec import GridSpec\n",
    "\n",
    "beam = 'gt1l'\n",
    "x1 = x_atc['03'][beam]\n",
    "x2 = x_atc['04'][beam]\n",
    "h1 = h_li['03'][beam]\n",
    "h2 = h_li['04'][beam]\n",
    "dh1 = h_li_diff['03'][beam]\n",
    "dh2 = h_li_diff['04'][beam]\n",
    "vel_xs = midpoints_x_atc[rgt][beam]\n",
    "velocs = velocities[rgt][beam]\n",
    "\n",
    "plt.figure(figsize=(8,4))\n",
    "gs = GridSpec(2,2)\n",
    "\n",
    "# Plot the elevation profiles again\n",
    "plt.subplot(gs[0,0])\n",
    "plt.tick_params(bottom=False,labelbottom=False)\n",
    "plt.plot(x1/1000.-29000,h1,'.',c='indianred')\n",
    "plt.plot(x2/1000.-29000,h2,'.',c='steelblue',ms=3)\n",
    "plt.ylabel('Elevation (m)')\n",
    "plt.title('ATL06',fontweight='bold')\n",
    "plt.xlim(80,580)\n",
    "\n",
    "# Plot the slopes again\n",
    "plt.subplot(gs[1,0])\n",
    "plt.tick_params(bottom=False,labelbottom=False)\n",
    "plt.plot(x1/1000.-29000,dh1,'.',c='indianred')\n",
    "plt.plot(x2/1000.-29000,dh2,'.',c='steelblue',ms=3)\n",
    "plt.ylim(-.05,.05)\n",
    "plt.ylabel('Surface Slope (m/m)')\n",
    "plt.xlim(80,580)\n",
    "\n",
    "# Plot the calculated velocities along track\n",
    "ax5 = plt.subplot(gs[0,1])\n",
    "plt.plot(vel_xs/1000.-29000,velocs,'.',c='k',label='ATL06')\n",
    "plt.ylabel('Velocity (m/yr)')\n",
    "plt.xlabel('Along-Track Distance (km)')\n",
    "plt.xlim(80,580)\n",
    "plt.ylim(-500,1500)\n",
    "\n",
    "plt.tight_layout()"
   ]
  }
 ],
 "metadata": {
  "kernelspec": {
   "display_name": "Python 3",
   "language": "python",
   "name": "python3"
  },
  "language_info": {
   "codemirror_mode": {
    "name": "ipython",
    "version": 3
   },
   "file_extension": ".py",
   "mimetype": "text/x-python",
   "name": "python",
   "nbconvert_exporter": "python",
   "pygments_lexer": "ipython3",
   "version": "3.7.6"
  }
 },
 "nbformat": 4,
 "nbformat_minor": 2
}
