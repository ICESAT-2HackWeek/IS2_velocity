{
 "cells": [
  {
   "cell_type": "code",
   "execution_count": 1,
   "metadata": {},
   "outputs": [],
   "source": [
    "import os, glob, h5py, pyproj\n",
    "import numpy as np\n",
    "import matplotlib.pyplot as plt\n",
    "import pointCollection as pc\n",
    "%matplotlib widget"
   ]
  },
  {
   "cell_type": "markdown",
   "metadata": {},
   "source": [
    "Assuming the data has been processed already, and the hdf5 files are somewhere"
   ]
  },
  {
   "cell_type": "code",
   "execution_count": 2,
   "metadata": {},
   "outputs": [],
   "source": [
    "map_data_path = '/Users/grace/Dropbox/Cornell/projects/003/FIS_data'\n",
    "data_out_path = '/Users/grace/Dropbox/Cornell/projects/003/result_20200723_with_measures/'\n",
    "plots_path = '/Users/grace/Dropbox/Cornell/projects/003/plots_20200724/'"
   ]
  },
  {
   "cell_type": "code",
   "execution_count": 3,
   "metadata": {},
   "outputs": [],
   "source": [
    "out_files = glob.glob(data_out_path + '*hdf5')"
   ]
  },
  {
   "cell_type": "markdown",
   "metadata": {},
   "source": [
    "Plot just rgt 0848 for now:"
   ]
  },
  {
   "cell_type": "code",
   "execution_count": 4,
   "metadata": {},
   "outputs": [
    {
     "data": {
      "text/plain": [
       "'/Users/grace/Dropbox/Cornell/projects/003/result_20200723_with_measures/rgt0848_veloc0.hdf5'"
      ]
     },
     "execution_count": 4,
     "metadata": {},
     "output_type": "execute_result"
    }
   ],
   "source": [
    "data_out_path + 'rgt0848_veloc0.hdf5'"
   ]
  },
  {
   "cell_type": "code",
   "execution_count": 5,
   "metadata": {},
   "outputs": [
    {
     "name": "stdout",
     "output_type": "stream",
     "text": [
      "along_track_step         Dataset {SCALAR}\r\n",
      "contributing_cycles      Dataset {SCALAR}\r\n",
      "dx                       Dataset {SCALAR}\r\n",
      "gt1l                     Group\r\n",
      "gt1r                     Group\r\n",
      "gt2l                     Group\r\n",
      "gt2r                     Group\r\n",
      "gt3l                     Group\r\n",
      "gt3r                     Group\r\n",
      "max_percent_nans         Dataset {SCALAR}\r\n",
      "process_date             Dataset {SCALAR}\r\n",
      "product                  Dataset {SCALAR}\r\n",
      "search_width             Dataset {SCALAR}\r\n",
      "segment_length           Dataset {SCALAR}\r\n",
      "smoothing                Dataset {SCALAR}\r\n",
      "smoothing_window_size    Dataset {SCALAR}\r\n"
     ]
    }
   ],
   "source": [
    "!h5ls /Users/grace/Dropbox/Cornell/projects/003/result_20200723_with_measures/rgt0848_veloc0.hdf5"
   ]
  },
  {
   "cell_type": "code",
   "execution_count": 6,
   "metadata": {},
   "outputs": [
    {
     "name": "stdout",
     "output_type": "stream",
     "text": [
      "/Users/grace/Dropbox/Cornell/projects/003/result_20200723_with_measures/rgt0848_veloc0.hdf5\n"
     ]
    },
    {
     "data": {
      "application/vnd.jupyter.widget-view+json": {
       "model_id": "bc2b50b2ad914818b5fa1de2ea854ab4",
       "version_major": 2,
       "version_minor": 0
      },
      "text/plain": [
       "Canvas(toolbar=Toolbar(toolitems=[('Home', 'Reset original view', 'home', 'home'), ('Back', 'Back to previous …"
      ]
     },
     "metadata": {},
     "output_type": "display_data"
    },
    {
     "name": "stdout",
     "output_type": "stream",
     "text": [
      "{'cmap': 'gray', 'clim': [14000, 17000], 'extent': array([-891950., -295950.,  137825.,  623825.]), 'origin': 'lower'}\n"
     ]
    }
   ],
   "source": [
    "file = data_out_path + 'rgt0848_veloc0.hdf5'\n",
    "\n",
    "file = data_out_path + 'rgt0848_veloc0.hdf5'\n",
    "\n",
    "rgt = '0848'\n",
    "beams = ['gt1l','gt1r','gt2l','gt2r','gt3l','gt3r']\n",
    "\n",
    "correlation_threshold = 0.6\n",
    "\n",
    "if glob.glob(file):\n",
    "    print(file)\n",
    "    \n",
    "    ### MOA parameters\n",
    "    moa_datapath = map_data_path\n",
    "#     spatial_extent = np.array([-102, -76, -98, -74.5])\n",
    "#     spatial_extent = np.array([-65, -86, -55, -81])\n",
    "#     spatial_extent = np.array([-65, -86, -55, -81]) # lon, lat, lon, lat\n",
    "#     lat=spatial_extent[[1, 3, 3, 1, 1]]\n",
    "#     lon=spatial_extent[[2, 2, 0, 0, 2]]\n",
    "    \n",
    "    lat_bounds = [-87, -80]\n",
    "    lon_bounds = [-65, -55]\n",
    "    lat = lat_bounds\n",
    "    lon = lon_bounds\n",
    "    x_bounds = [-830000, -480000]\n",
    "    y_bounds = [200000, 580000]\n",
    "    \n",
    "    # project the coordinates to Antarctic polar stereographic\n",
    "    xy=np.array(pyproj.Proj(3031)(lon, lat))\n",
    "    # get the bounds of the projected coordinates \n",
    "    XR=[np.nanmin(xy[0,:]), np.nanmax(xy[0,:])]\n",
    "    YR=[np.nanmin(xy[1,:]), np.nanmax(xy[1,:])]\n",
    "    MOA=pc.grid.data().from_geotif(os.path.join(moa_datapath, 'moa_2009_1km.tif'), bounds=[XR, YR])\n",
    "\n",
    "    epsg=3031 #PS?\n",
    "\n",
    "    plt.close('all')\n",
    "    fig = plt.figure(figsize=[9,11])\n",
    "    grid = plt.GridSpec(11, 10, wspace=0.4, hspace=0.2)\n",
    "\n",
    "    haxMOA=fig.add_subplot(grid[0:4,3:7])\n",
    "\n",
    "    MOA.show(ax=haxMOA,cmap='gray', clim=[14000, 17000])\n",
    "    haxMOA.set_xlim(x_bounds)\n",
    "    haxMOA.set_ylim(y_bounds)\n",
    "    \n",
    "    # change labels to km\n",
    "    xticks = haxMOA.get_xticks()\n",
    "    newlabels = [int(tick/1e3) for tick in xticks]\n",
    "    haxMOA.set_xticklabels(newlabels)\n",
    "    haxMOA.set_xlabel('PS X (km)')\n",
    "\n",
    "    yticks = haxMOA.get_yticks()\n",
    "    newlabels = [int(tick/1e3) for tick in yticks]\n",
    "    haxMOA.set_yticklabels(newlabels)\n",
    "    haxMOA.set_ylabel('PS Y (km)')\n",
    "    \n",
    "    with h5py.File(file, 'r') as f:\n",
    "            for ib, beam in enumerate(beams):\n",
    "                hax0=fig.add_subplot(grid[ib+5,0:9])\n",
    "#                 hax0.set_facecolor((0.75,0.75,0.75))\n",
    "\n",
    "                lats = f[f'/{beam}/latitudes'][()]\n",
    "                lons = f[f'/{beam}/longitudes'][()]\n",
    "                coeffs = f[f'/{beam}/correlation_coefficients'][()]\n",
    "                velocs = f[f'/{beam}/velocities'][()]\n",
    "                v_along=f[f'/{beam}/Measures_v_along'][()]\n",
    "                xy=np.array(pyproj.proj.Proj(3031)(lons,lats))\n",
    "\n",
    "                ixs0 = coeffs <= correlation_threshold\n",
    "                ixs = coeffs > correlation_threshold\n",
    "\n",
    "\n",
    "\n",
    "                h0 = hax0.scatter(xy[0], velocs, 3, coeffs, vmin = 0, vmax = 1,cmap = 'viridis')\n",
    "                h1 = hax0.plot(xy[0], v_along, 'k-', linewidth = 1)\n",
    "\n",
    "                hax0.set_ylim(-150,850)\n",
    "\n",
    "                h2 = haxMOA.scatter(xy[0][ixs0], xy[1][ixs0], 0.02, 'k')\n",
    "                h3 = haxMOA.scatter(xy[0][ixs], xy[1][ixs], 0.15, velocs[ixs], vmin = -150, vmax = 700,cmap = 'plasma')\n",
    "\n",
    "                if ib != len(beams) -1:\n",
    "                    hax0.set_xticklabels([])\n",
    "                elif ib == len(beams) -1:\n",
    "                    xticks = hax0.get_xticks()\n",
    "                    newlabels = [int(tick/1e3) for tick in xticks]\n",
    "                    hax0.set_xticklabels(newlabels)\n",
    "                    hax0.set_xlabel('PS X (km)')\n",
    "                    \n",
    "                if ib == 2:\n",
    "                    hax0.set_ylabel('m / yr along track')\n",
    "             \n",
    "                xlims = hax0.get_xlim()\n",
    "                xloc = xlims[0] +  0.02 * (xlims[1] - xlims[0])\n",
    "                hax0.text(xloc, 500, beam)\n",
    "                \n",
    "                \n",
    "    # make velocity colorbar\n",
    "    haxCbar1=fig.add_subplot(grid[0:4, 8:9])\n",
    "    haxCbar1.axis('off')\n",
    "    c = plt.colorbar(h3, ax = haxCbar1)\n",
    "    c.set_label('Along-track Velocity (m/yr)')     \n",
    "    \n",
    "    # make correlation coefficient colorbar\n",
    "    haxCbar2=fig.add_subplot(grid[4:10,9])\n",
    "    haxCbar2.axis('off')\n",
    "    c = plt.colorbar(h0, ax = haxCbar2)\n",
    "    c.set_label('Correlation Coefficient')                        \n",
    "                \n",
    "    outfile = plots_path + 'rgt' + rgt + '.' + beam + '_vs_measures.png'\n",
    "    plt.savefig(outfile, dpi = 300)\n",
    "#     plt.close('all')"
   ]
  },
  {
   "cell_type": "code",
   "execution_count": null,
   "metadata": {},
   "outputs": [],
   "source": []
  }
 ],
 "metadata": {
  "kernelspec": {
   "display_name": "Python [conda env:icesat2020] *",
   "language": "python",
   "name": "conda-env-icesat2020-py"
  },
  "language_info": {
   "codemirror_mode": {
    "name": "ipython",
    "version": 3
   },
   "file_extension": ".py",
   "mimetype": "text/x-python",
   "name": "python",
   "nbconvert_exporter": "python",
   "pygments_lexer": "ipython3",
   "version": "3.7.6"
  }
 },
 "nbformat": 4,
 "nbformat_minor": 4
}
